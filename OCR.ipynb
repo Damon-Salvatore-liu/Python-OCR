{
 "cells": [
  {
   "cell_type": "code",
   "execution_count": 1,
   "source": [
    "from aip import AipOcr #导入AipOcr模块，用于做文字识别\r\n",
    "import glob\r\n",
    "\r\n",
    "APP_ID = '*********' # 你申请的\r\n",
    "API_KEY = '*********'# 你申请的\r\n",
    "SECRET_KEY = '*********'# 你申请的\r\n",
    "client = AipOcr(APP_ID, API_KEY, SECRET_KEY)\r\n",
    "\r\n",
    "path = \"中国税务大词典\\\\\"\r\n",
    "files = glob.glob(path+\"*.png\")\r\n",
    "\r\n",
    "txt_file = open('中国税务大词典.txt', 'a')\r\n",
    "\r\n",
    "for file in files:\r\n",
    "    pic = open(file,'rb')# 以二进制（rb）打开\r\n",
    "    img = pic.read() # 读取\r\n",
    "    message = client.basicGeneral(img) # 调用百度AI识别图片中的文字\r\n",
    "    for words in message['words_result']:\r\n",
    "        word = words['words'] # 提取文字\r\n",
    "        print(word)\r\n",
    "\r\n",
    "        txt_file.write(word) # 将文字写入文本文件\r\n",
    "\r\n",
    "txt_file.close() # 关闭文本文件"
   ],
   "outputs": [],
   "metadata": {}
  },
  {
   "cell_type": "code",
   "execution_count": null,
   "source": [],
   "outputs": [],
   "metadata": {}
  }
 ],
 "metadata": {
  "orig_nbformat": 4,
  "language_info": {
   "name": "python",
   "version": "3.8.3",
   "mimetype": "text/x-python",
   "codemirror_mode": {
    "name": "ipython",
    "version": 3
   },
   "pygments_lexer": "ipython3",
   "nbconvert_exporter": "python",
   "file_extension": ".py"
  },
  "kernelspec": {
   "name": "python3",
   "display_name": "Python 3.8.3 64-bit ('base': conda)"
  },
  "interpreter": {
   "hash": "7b4b4feff2f24a0f0a34464dbe537a36fda679851528fb8735cb41fa49dffb2d"
  }
 },
 "nbformat": 4,
 "nbformat_minor": 2
}